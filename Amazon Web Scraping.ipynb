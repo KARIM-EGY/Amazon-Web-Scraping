{
 "cells": [
  {
   "cell_type": "code",
   "execution_count": 1,
   "id": "f68ac263-2f2b-4c08-9b05-7d0336e32590",
   "metadata": {},
   "outputs": [],
   "source": [
    "from bs4 import BeautifulSoup as bs\n",
    "import requests\n",
    "import datetime\n",
    "import csv \n",
    "import pandas as pd"
   ]
  },
  {
   "cell_type": "code",
   "execution_count": 2,
   "id": "8fedfc84-79c4-4afc-94b5-5bbb0267c3e5",
   "metadata": {
    "scrolled": true
   },
   "outputs": [],
   "source": [
    "url = 'https://www.amazon.eg/-/en/wireless-headphone-sodo-sd-1004-Black/dp/B091J7JWT4/ref=sr_1_9?_encoding=UTF8&content-id=amzn1.sym.fd1ccdf3-31ff-4933-afe3-07ab871d1ed7&dib=eyJ2IjoiMSJ9.NKAGEYqT5tFA3xEJuySOx_W8K5-sJT25stLS5RYw395pkeZ4a9PnRGtAM3ayLe4EkMzQNwEIhyH7NfkbtaBvSxWUkBaDbRbhHjeWknJST_VV3h80LxC4-k3hwMoXy-9Lc0PwwQEcvQ3XcD-hQKvR1P9t8v4taRKztoST6ZSGAKdPTDKiK7a47sR2ty_UYtcqKvDg6PCA-3yqq0K0TdsPTIRxIuQD7ZqJaXocWl5UdQ-TjSGjlIPvn2Jr9PyF5K5XXHRAc_ejlj_4x4neHG9tNanKam9W9wqpBtq5THYXOeE.GCX9pb4kMvOEFVGHnppJIrdmskb63EEP-Qb0aQfPof0&dib_tag=se&pd_rd_r=6761d137-9622-4aa6-9651-7856d1de65b1&pd_rd_w=mYpAZ&pd_rd_wg=WqIbO&pf_rd_p=fd1ccdf3-31ff-4933-afe3-07ab871d1ed7&pf_rd_r=HNK3RGRWE5038AYJY4TQ&qid=1719236493&refinements=p_36%3A-65000&s=electronics&sr=1-9'\n",
    "headers = { \"User-Agent\":\"Mozilla/5.0 (Windows NT 10.0; Win64; x64) AppleWebKit/537.36 (KHTML, like Gecko) Chrome/126.0.0.0 Safari/537.36 Edg/126.0.0.0\", \"Accept-Encoding\": \"gzip, deflate, br, zstd\",\"Accept\": \"text/html,application/xhtml+xml,application/xml;q=0.9,image/avif,image/webp,image/apng,*/*;q=0.8,application/signed-exchange;v=b3;q=0.7\"} \n",
    "page = requests.get(url , headers = headers)\n",
    "soup = bs(page.content , 'html.parser')\n",
    "name = soup.find(id='productTitle').get_text() ## getting the name of the product\n",
    "name = name.strip()\n",
    "price = soup.find(class_=\"a-offscreen\").get_text() ##getting the price\n",
    "price = price.strip()[3:]\n",
    "rate = soup.find(class_='a-popover-trigger a-declarative').get_text() ## getting the rate\n",
    "rate = rate.strip()[0:3]\n",
    "today = datetime.date.today() ##getting the date\n"
   ]
  },
  {
   "cell_type": "code",
   "execution_count": 3,
   "id": "1763fe72-b757-4f07-8680-51cc0c46ba7e",
   "metadata": {},
   "outputs": [],
   "source": [
    "##creating CSV file to insert data\n",
    "header = ['Product Name', 'Price', 'Rate of 5', 'Date'] #creating Headers of the date\n",
    "data = [name, price, rate ,  today ] #refering the data \n",
    "##Writing the data\n",
    "with open('AmazonScraping.csv', 'w', newline='', encoding = 'UTF8') as f:\n",
    "    writer = csv.writer(f)\n",
    "    writer.writerow(header)\n",
    "    writer.writerow(data)"
   ]
  },
  {
   "cell_type": "code",
   "execution_count": 9,
   "id": "0c6d1b8d-4014-4e6c-9873-600dea9f4a34",
   "metadata": {},
   "outputs": [],
   "source": [
    "#appending data to the file we created\n",
    "with open('AmazonScraping.csv', 'a+', newline='', encoding = 'UTF8') as f:\n",
    "    writer = csv.writer(f)\n",
    "    writer.writerow(data)"
   ]
  },
  {
   "cell_type": "code",
   "execution_count": 11,
   "id": "ee3bc169-8222-43fa-a21f-2a380ffc0300",
   "metadata": {},
   "outputs": [
    {
     "data": {
      "text/html": [
       "<div>\n",
       "<style scoped>\n",
       "    .dataframe tbody tr th:only-of-type {\n",
       "        vertical-align: middle;\n",
       "    }\n",
       "\n",
       "    .dataframe tbody tr th {\n",
       "        vertical-align: top;\n",
       "    }\n",
       "\n",
       "    .dataframe thead th {\n",
       "        text-align: right;\n",
       "    }\n",
       "</style>\n",
       "<table border=\"1\" class=\"dataframe\">\n",
       "  <thead>\n",
       "    <tr style=\"text-align: right;\">\n",
       "      <th></th>\n",
       "      <th>Product Name</th>\n",
       "      <th>Price</th>\n",
       "      <th>Rate of 5</th>\n",
       "      <th>Date</th>\n",
       "    </tr>\n",
       "  </thead>\n",
       "  <tbody>\n",
       "    <tr>\n",
       "      <th>0</th>\n",
       "      <td>wireless headphone sodo sd-1004 - Black</td>\n",
       "      <td>394.0</td>\n",
       "      <td>3.5</td>\n",
       "      <td>2024-06-24</td>\n",
       "    </tr>\n",
       "    <tr>\n",
       "      <th>1</th>\n",
       "      <td>wireless headphone sodo sd-1004 - Black</td>\n",
       "      <td>394.0</td>\n",
       "      <td>3.5</td>\n",
       "      <td>2024-06-24</td>\n",
       "    </tr>\n",
       "    <tr>\n",
       "      <th>2</th>\n",
       "      <td>wireless headphone sodo sd-1004 - Black</td>\n",
       "      <td>394.0</td>\n",
       "      <td>3.5</td>\n",
       "      <td>2024-06-24</td>\n",
       "    </tr>\n",
       "    <tr>\n",
       "      <th>3</th>\n",
       "      <td>wireless headphone sodo sd-1004 - Black</td>\n",
       "      <td>394.0</td>\n",
       "      <td>3.5</td>\n",
       "      <td>2024-06-24</td>\n",
       "    </tr>\n",
       "    <tr>\n",
       "      <th>4</th>\n",
       "      <td>wireless headphone sodo sd-1004 - Black</td>\n",
       "      <td>394.0</td>\n",
       "      <td>3.5</td>\n",
       "      <td>2024-06-24</td>\n",
       "    </tr>\n",
       "    <tr>\n",
       "      <th>5</th>\n",
       "      <td>wireless headphone sodo sd-1004 - Black</td>\n",
       "      <td>394.0</td>\n",
       "      <td>3.5</td>\n",
       "      <td>2024-06-24</td>\n",
       "    </tr>\n",
       "    <tr>\n",
       "      <th>6</th>\n",
       "      <td>wireless headphone sodo sd-1004 - Black</td>\n",
       "      <td>394.0</td>\n",
       "      <td>3.5</td>\n",
       "      <td>2024-06-24</td>\n",
       "    </tr>\n",
       "  </tbody>\n",
       "</table>\n",
       "</div>"
      ],
      "text/plain": [
       "                              Product Name  Price  Rate of 5        Date\n",
       "0  wireless headphone sodo sd-1004 - Black  394.0        3.5  2024-06-24\n",
       "1  wireless headphone sodo sd-1004 - Black  394.0        3.5  2024-06-24\n",
       "2  wireless headphone sodo sd-1004 - Black  394.0        3.5  2024-06-24\n",
       "3  wireless headphone sodo sd-1004 - Black  394.0        3.5  2024-06-24\n",
       "4  wireless headphone sodo sd-1004 - Black  394.0        3.5  2024-06-24\n",
       "5  wireless headphone sodo sd-1004 - Black  394.0        3.5  2024-06-24\n",
       "6  wireless headphone sodo sd-1004 - Black  394.0        3.5  2024-06-24"
      ]
     },
     "execution_count": 11,
     "metadata": {},
     "output_type": "execute_result"
    }
   ],
   "source": [
    "## showing the output\n",
    "df = pd.read_csv(r'C:\\Users\\Reda\\Desktop/KP/jupyter/AmazonScraping.csv')\n",
    "df"
   ]
  },
  {
   "cell_type": "code",
   "execution_count": null,
   "id": "ee557899-54c6-4cd8-a5a4-6baf1c291029",
   "metadata": {},
   "outputs": [],
   "source": []
  }
 ],
 "metadata": {
  "kernelspec": {
   "display_name": "Python 3 (ipykernel)",
   "language": "python",
   "name": "python3"
  },
  "language_info": {
   "codemirror_mode": {
    "name": "ipython",
    "version": 3
   },
   "file_extension": ".py",
   "mimetype": "text/x-python",
   "name": "python",
   "nbconvert_exporter": "python",
   "pygments_lexer": "ipython3",
   "version": "3.11.7"
  }
 },
 "nbformat": 4,
 "nbformat_minor": 5
}
